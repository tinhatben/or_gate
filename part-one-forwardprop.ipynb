{
 "cells": [
  {
   "cell_type": "markdown",
   "metadata": {},
   "source": [
    "![tinhatben](tinhatben_svg.png)"
   ]
  },
  {
   "cell_type": "markdown",
   "metadata": {},
   "source": [
    "# Neural Networks & Backpropagation: Part One\n",
    "\n",
    "This Jupyter notebook has been written to partner with the\n",
    "[tinhatben.com](https://tinhatben.com) article on : [Neural Networks & Backpropagation: Part One](https://tinhatben.com/2016/09/27/neural-networks-and-backpropagation-part-one/)\n",
    "\n",
    "For more information on data science and machine learning go to\n",
    "[tinhatben.com](https://www.tinhatben.com)\n",
    "\n",
    "This jupyter notebook is licensed under the Mozilla Public License 2.0 if a copy of the license was not provided with this notebook it can be downloaded [here](https://www.mozilla.org/en-US/MPL/2.0/)\n",
    "\n",
    "THIS NOTEBOOK IS PROVIDED UNDER THIS LICENSE ON AN “AS IS” BASIS, WITHOUT WARRANTY OF ANY KIND, EITHER EXPRESSED, IMPLIED, OR STATUTORY, INCLUDING, WITHOUT LIMITATION, WARRANTIES THAT THE COVERED SOFTWARE IS FREE OF DEFECTS, MERCHANTABLE, FIT FOR A PARTICULAR PURPOSE OR NON-INFRINGING"
   ]
  },
  {
   "cell_type": "code",
   "execution_count": 1,
   "metadata": {
    "collapsed": false
   },
   "outputs": [],
   "source": [
    "# Imports\n",
    "from tinhatbenbranding import TINHATBEN_GRAY, TINHATBEN_YELLOW, add_tinhatbendotcom\n",
    "from matplotlib import pyplot as plt\n",
    "import numpy as np\n",
    "\n",
    "%matplotlib inline\n",
    "plt.rcParams['figure.figsize'] = 10, 10"
   ]
  },
  {
   "cell_type": "code",
   "execution_count": 2,
   "metadata": {
    "collapsed": true
   },
   "outputs": [],
   "source": [
    "def prettyprintarray(array, format=\"%d\"):\n",
    "    rows, cols = array.shape\n",
    "    msg = \"Shape: %i x %i\\n\" % (rows, cols)\n",
    "    for row in range(rows):\n",
    "        for col in range(cols):\n",
    "            msg += format % (array[row, col])\n",
    "            msg += \"\\t\"\n",
    "        msg += \"\\n\"\n",
    "    \n",
    "    print(msg)"
   ]
  },
  {
   "cell_type": "markdown",
   "metadata": {},
   "source": [
    "## Part One: Forward Propagation\n",
    "As per the corresponding article we will be using a neural network to represent the common OR gate, used in computer science and electrical engineering.  Given the following inputs, we expect the outputs of our neural network to be:\n",
    "\n",
    "| Input 1 | Input 2 | Output | \n",
    "|---------|:--------|:-------|\n",
    "| 0 | 0 | 0 |\n",
    "| 1 | 0 | 1 |\n",
    "| 0 | 1 | 1 |\n",
    "| 1 | 1 | 1 |\n",
    "\n",
    "We will be constructing a neural network with the following topology and intial weights values.\n",
    "\n",
    "<img src=\"net_all.png\">\n",
    "\n",
    "## Training Data\n",
    "Dividing the training data into inputs and targets where x_train represents the inputs and y_train represents the target outputs"
   ]
  },
  {
   "cell_type": "code",
   "execution_count": 3,
   "metadata": {
    "collapsed": false
   },
   "outputs": [],
   "source": [
    "# Training data\n",
    "x_train = np.array([\n",
    "        [0, 0],\n",
    "        [1, 0],   \n",
    "        [0, 1],\n",
    "        [1, 1],\n",
    "    ])\n",
    "y_train = np.array([\n",
    "        [0],\n",
    "        [1],\n",
    "        [1],\n",
    "    ])"
   ]
  },
  {
   "cell_type": "code",
   "execution_count": 4,
   "metadata": {
    "collapsed": false
   },
   "outputs": [
    {
     "name": "stdout",
     "output_type": "stream",
     "text": [
      "x training data\n",
      "Shape: 4 x 2\n",
      "0\t0\t\n",
      "1\t0\t\n",
      "0\t1\t\n",
      "1\t1\t\n",
      "\n",
      "y training data\n",
      "Shape: 3 x 1\n",
      "0\t\n",
      "1\t\n",
      "1\t\n",
      "\n"
     ]
    }
   ],
   "source": [
    "print(\"x training data\")\n",
    "prettyprintarray(x_train)\n",
    "print(\"y training data\")\n",
    "prettyprintarray(y_train)"
   ]
  },
  {
   "cell_type": "markdown",
   "metadata": {},
   "source": [
    "## Sigmoid Function\n",
    "This is the linearity function to be used for the hidden and output layers in the network\n",
    "\n",
    "$$g(z) = \\frac{1}{1 + e^{-z}}$$"
   ]
  },
  {
   "cell_type": "code",
   "execution_count": 5,
   "metadata": {
    "collapsed": true
   },
   "outputs": [],
   "source": [
    "def sigmoid(z):\n",
    "    return 1.0 / (1 + np.exp(-z))"
   ]
  },
  {
   "cell_type": "code",
   "execution_count": 6,
   "metadata": {
    "collapsed": false
   },
   "outputs": [
    {
     "data": {
      "image/png": "[encoded data removed]",
      "text/plain": [
       "<matplotlib.figure.Figure at 0x7efc90576fd0>"
      ]
     },
     "metadata": {},
     "output_type": "display_data"
    }
   ],
   "source": [
    "# Plot the sigmoid function\n",
    "z = np.linspace(-10, 10, num=1000)\n",
    "\n",
    "f = plt.figure()\n",
    "ax = f.add_subplot(111)\n",
    "ax.set_title(\"Sigmoid Function\")\n",
    "ax.set_xlabel(\"z\")\n",
    "ax.set_ylabel(\"g(z)\")\n",
    "ax.plot(z, sigmoid(z), color=TINHATBEN_GRAY)\n",
    "add_tinhatbendotcom(ax, (0,0))\n",
    "plt.savefig(\"sigmoid.png\", dpi=300)"
   ]
  },
  {
   "cell_type": "markdown",
   "metadata": {
    "collapsed": false
   },
   "source": [
    "## Initialising Weights\n",
    "Normally we want to initialise weights randomly, close to zero.  The reasons for initialising these values randomly about zero are covered in more detail in the article [Neural Networks & Backpropagation: Part One](https://tinhatben.com/2016/09/27/neural-networks-and-backpropagation-part-one/); for the purpose of this understanding the training process, we will specify the weights so we can follow the calculations manually"
   ]
  },
  {
   "cell_type": "code",
   "execution_count": 7,
   "metadata": {
    "collapsed": false
   },
   "outputs": [],
   "source": [
    "# Layer 1 weights\n",
    "w1 = 0.1\n",
    "w2 = 0.2\n",
    "w3 = 0.3\n",
    "w4 = 0.4\n",
    "b1 = 0.5\n",
    "b2 = 0.5\n",
    "\n",
    "# Layer 2 weights\n",
    "w5 = 0.01\n",
    "w6 = 0.02\n",
    "b3 = 0.03"
   ]
  },
  {
   "cell_type": "markdown",
   "metadata": {},
   "source": [
    "## Forward Propagation\n",
    "Given the weights and inputs we can now compute the activations for each of the nodes in the network.  So referring back to the article, the inputs to the hidden nodes and output layers can be calculated as follows:\n",
    "\n",
    "$h_1 = b_1 + i_1w_1 + i_2w_3$\n",
    "\n",
    "$h_2 = b_2 + i_1w_2 + i_2w_4$\n",
    "\n"
   ]
  },
  {
   "cell_type": "code",
   "execution_count": 8,
   "metadata": {
    "collapsed": false
   },
   "outputs": [
    {
     "name": "stdout",
     "output_type": "stream",
     "text": [
      "h_1 = 0.60\n",
      "h_2 = 0.70\n",
      "h_o = 0.05\n"
     ]
    }
   ],
   "source": [
    "# Using the second training example [1, 0]\n",
    "i1 = 1\n",
    "i2 = 0\n",
    "\n",
    "h1 = b1 + i1 * w1 + i2 * w3\n",
    "h2 = b2 + i1 * w2 + i2 * w4\n",
    "ho = b3 + h1 * w5 + h2 * w6\n",
    "\n",
    "print(\"h_1 = %0.2f\" % h1)\n",
    "print(\"h_2 = %0.2f\" % h2)\n",
    "print(\"h_o = %0.2f\" % ho)"
   ]
  },
  {
   "cell_type": "markdown",
   "metadata": {},
   "source": [
    "If we compute the forward propagation as such individually we need to loop through each of the training samples and execute the above calculations.  We can compute the inputs to each of the nodes using all of the training samples in one step using linear algebra and matrices.  In order to do this we need to represent the weights as a matrix and add at bias unit (1) to the input samples to represent the **+1** connected to the bias weights $b_1, b_2, b_3$.  So configuring the weights as a matrix: we have 6 individual weight values, 3 input values per sample and in the hidden layer we want to calculate 2 input values.  So our hidden layer weights matrix should be a 3 x 2 matrix."
   ]
  },
  {
   "cell_type": "code",
   "execution_count": 9,
   "metadata": {
    "collapsed": false
   },
   "outputs": [
    {
     "name": "stdout",
     "output_type": "stream",
     "text": [
      "Layer 1 Weights: (Input to Hidden Layer)\n",
      "Shape: 3 x 2\n",
      "0.50\t0.50\t\n",
      "0.10\t0.20\t\n",
      "0.30\t0.40\t\n",
      "\n"
     ]
    }
   ],
   "source": [
    "# Representing the weights as a matrix\n",
    "Weights_1 = np.array([\n",
    "        [b1, b2],        \n",
    "        [w1, w2],\n",
    "        [w3, w4],\n",
    "    ])\n",
    "\n",
    "print(\"Layer 1 Weights: (Input to Hidden Layer)\")\n",
    "prettyprintarray(Weights_1, format=\"%0.2f\")"
   ]
  },
  {
   "cell_type": "markdown",
   "metadata": {},
   "source": [
    "For the hidden layer to output layer weights, we have 3 inputs from the hidden layer (including **+1** from the bias unit) and 1 output node.  So we want a 3 x 1 weights matrix."
   ]
  },
  {
   "cell_type": "code",
   "execution_count": 10,
   "metadata": {
    "collapsed": false
   },
   "outputs": [
    {
     "name": "stdout",
     "output_type": "stream",
     "text": [
      "Layer 2 Weights: (Hidden to Output Layer)\n",
      "Shape: 3 x 1\n",
      "0.03\t\n",
      "0.01\t\n",
      "0.02\t\n",
      "\n"
     ]
    }
   ],
   "source": [
    "Weights_2 = np.array([\n",
    "        [b3],\n",
    "        [w5],\n",
    "        [w6],\n",
    "    ])\n",
    "\n",
    "print(\"Layer 2 Weights: (Hidden to Output Layer)\")\n",
    "prettyprintarray(Weights_2, format=\"%0.2f\")\n",
    "\n",
    "# Store the weights in a list for later use\n",
    "Weights = [Weights_1, Weights_2]"
   ]
  },
  {
   "cell_type": "markdown",
   "metadata": {},
   "source": [
    "Adding the bias units **+1** to the inputs:"
   ]
  },
  {
   "cell_type": "code",
   "execution_count": 11,
   "metadata": {
    "collapsed": false
   },
   "outputs": [
    {
     "name": "stdout",
     "output_type": "stream",
     "text": [
      "Inputs Array\n",
      "Shape: 4 x 3\n",
      "1\t0\t0\t\n",
      "1\t1\t0\t\n",
      "1\t0\t1\t\n",
      "1\t1\t1\t\n",
      "\n"
     ]
    }
   ],
   "source": [
    "I = np.array([\n",
    "        [1, 0, 0],\n",
    "        [1, 1, 0],   \n",
    "        [1, 0, 1],\n",
    "        [1, 1, 1],\n",
    "    ])\n",
    "print(\"Inputs Array\")\n",
    "prettyprintarray(I)"
   ]
  },
  {
   "cell_type": "markdown",
   "metadata": {},
   "source": [
    "Now we can calculate the hidden layer input values for ALL the training examples by $\\vec{h_1} = \\vec{I}\\vec{W_1}$"
   ]
  },
  {
   "cell_type": "code",
   "execution_count": 12,
   "metadata": {
    "collapsed": false
   },
   "outputs": [
    {
     "name": "stdout",
     "output_type": "stream",
     "text": [
      "Hidden layer inputs\n",
      "Shape: 4 x 2\n",
      "0.50\t0.50\t\n",
      "0.60\t0.70\t\n",
      "0.80\t0.90\t\n",
      "0.90\t1.10\t\n",
      "\n"
     ]
    }
   ],
   "source": [
    "h_1 = np.dot(I, Weights_1)\n",
    "print(\"Hidden layer inputs\")\n",
    "prettyprintarray(h_1, format=\"%0.2f\")"
   ]
  },
  {
   "cell_type": "markdown",
   "metadata": {},
   "source": [
    "Now computing the activation values for the hidden layers $\\vec{a} = g(\\vec{h_1}) = sigmoid(\\vec{h_1})$"
   ]
  },
  {
   "cell_type": "code",
   "execution_count": 13,
   "metadata": {
    "collapsed": false
   },
   "outputs": [
    {
     "name": "stdout",
     "output_type": "stream",
     "text": [
      "Hidden layer activation\n",
      "Shape: 4 x 2\n",
      "0.62\t0.62\t\n",
      "0.65\t0.67\t\n",
      "0.69\t0.71\t\n",
      "0.71\t0.75\t\n",
      "\n"
     ]
    }
   ],
   "source": [
    "a_1 = sigmoid(h_1)\n",
    "print(\"Hidden layer activation\")\n",
    "prettyprintarray(a_1, format=\"%0.2f\")"
   ]
  },
  {
   "cell_type": "markdown",
   "metadata": {},
   "source": [
    "Now we have the activations for the hidden layer, we can compute the outputs of the network.  Again we can do this for each training example individually.\n",
    "\n",
    "$h_o = b_3 + a_1w_5 + a_2w_6$\n",
    "\n",
    "Where\n",
    "\n",
    "$a_1 = g(h_1) = sigmoid(h_1)$\n",
    "\n",
    "$a_2 = g(h_2) = sigmoid(h_2)$"
   ]
  },
  {
   "cell_type": "code",
   "execution_count": 14,
   "metadata": {
    "collapsed": false
   },
   "outputs": [
    {
     "name": "stdout",
     "output_type": "stream",
     "text": [
      "Output layer inputs for second training example\n",
      "ho = 0.05\n"
     ]
    }
   ],
   "source": [
    "# Using the second training example [1, 0]\n",
    "ho = b3 + sigmoid(h1) * w5 + sigmoid(h2) * w6\n",
    "\n",
    "print(\"Output layer inputs for second training example\")\n",
    "print(\"ho = %0.2f\" % ho)"
   ]
  },
  {
   "cell_type": "markdown",
   "metadata": {},
   "source": [
    "$a_o = g(h_o) = sigmoid(h_o)$"
   ]
  },
  {
   "cell_type": "code",
   "execution_count": 15,
   "metadata": {
    "collapsed": false
   },
   "outputs": [
    {
     "name": "stdout",
     "output_type": "stream",
     "text": [
      "Output of network for second training example\n",
      "ao = 0.512\n"
     ]
    }
   ],
   "source": [
    "ao = sigmoid(ho)\n",
    "print(\"Output of network for second training example\")\n",
    "print(\"ao = %0.3f\" % ao)"
   ]
  },
  {
   "cell_type": "markdown",
   "metadata": {},
   "source": [
    "Again, we can use linear algebra and matrices to compute the output layer inputs and activations for all training examples in one step."
   ]
  },
  {
   "cell_type": "code",
   "execution_count": 16,
   "metadata": {
    "collapsed": false
   },
   "outputs": [
    {
     "name": "stdout",
     "output_type": "stream",
     "text": [
      "Hidden layer activations with bias\n",
      "Shape: 4 x 3\n",
      "1.00\t0.62\t0.62\t\n",
      "1.00\t0.65\t0.67\t\n",
      "1.00\t0.69\t0.71\t\n",
      "1.00\t0.71\t0.75\t\n",
      "\n"
     ]
    }
   ],
   "source": [
    "a_1 = np.hstack((np.ones((a_1.shape[0], 1)), a_1))\n",
    "print(\"Hidden layer activations with bias\")\n",
    "prettyprintarray(a_1, format=\"%0.2f\")"
   ]
  },
  {
   "cell_type": "markdown",
   "metadata": {},
   "source": [
    "Computing the output values for the network for ALL the training examples: $\\vec{h_o} = \\vec{a_1}\\vec{W_2}$ and\n",
    "$\\vec{a_o} = g(\\vec{h_o}) = sigmoid(\\vec{h_o})$"
   ]
  },
  {
   "cell_type": "code",
   "execution_count": 17,
   "metadata": {
    "collapsed": false
   },
   "outputs": [
    {
     "name": "stdout",
     "output_type": "stream",
     "text": [
      "Network output\n",
      "Shape: 4 x 1\n",
      "0.512\t\n",
      "0.512\t\n",
      "0.513\t\n",
      "0.513\t\n",
      "\n"
     ]
    }
   ],
   "source": [
    "h_o = np.dot(a_1, Weights_2)\n",
    "a_o = sigmoid(h_o)\n",
    "print(\"Network output\")\n",
    "prettyprintarray(a_o, format=\"%0.3f\")"
   ]
  },
  {
   "cell_type": "markdown",
   "metadata": {},
   "source": [
    "We have now completed the first pass of forward propagation and are ready for **Part Two: Backpropagation**"
   ]
  },
  {
   "cell_type": "code",
   "execution_count": 18,
   "metadata": {
    "collapsed": true
   },
   "outputs": [],
   "source": [
    "## End of notebook"
   ]
  }
 ],
 "metadata": {
  "kernelspec": {
   "display_name": "Python 3",
   "language": "python",
   "name": "python3"
  },
  "language_info": {
   "codemirror_mode": {
    "name": "ipython",
    "version": 3
   },
   "file_extension": ".py",
   "mimetype": "text/x-python",
   "name": "python",
   "nbconvert_exporter": "python",
   "pygments_lexer": "ipython3",
   "version": "3.5.2"
  }
 },
 "nbformat": 4,
 "nbformat_minor": 0
}
